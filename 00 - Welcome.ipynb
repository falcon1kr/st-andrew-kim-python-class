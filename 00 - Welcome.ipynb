{
 "cells": [
  {
   "cell_type": "markdown",
   "metadata": {},
   "source": [
    "# Welcome!\n",
    "\n",
    "## 목적\n",
    "\n",
    "프로그래밍의 가장 기본이 되는 용어와 컨셉의 이해\n",
    "\n",
    "기본적인 코드를 짜고 읽을 수 있는 실력\n",
    "\n",
    "## Why Python?\n",
    "\n",
    "쉽고, 간결하며, 읽기 쉽고, 좋은 프로그래밍 습관을 들이는데 도움이 되는 언어\n",
    "\n",
    "다양한 방면으로 사용이 되고 있음\n",
    "\n",
    "1. Game Programming\n",
    "1. Web Server\n",
    "1. Artificial Intelligence\n",
    "1. Task Automation\n",
    "\n",
    "## Syllabus\n",
    "\n",
    "1. Variables, Data Types, Input, Ouptut\n",
    "1. Decision Structures\n",
    "1. Repetition Structures\n",
    "1. Functions"
   ]
  },
  {
   "cell_type": "code",
   "execution_count": null,
   "metadata": {},
   "outputs": [],
   "source": []
  }
 ],
 "metadata": {
  "kernelspec": {
   "display_name": "Python 3",
   "language": "python",
   "name": "python3"
  },
  "language_info": {
   "codemirror_mode": {
    "name": "ipython",
    "version": 3
   },
   "file_extension": ".py",
   "mimetype": "text/x-python",
   "name": "python",
   "nbconvert_exporter": "python",
   "pygments_lexer": "ipython3",
   "version": "3.7.0"
  }
 },
 "nbformat": 4,
 "nbformat_minor": 2
}
