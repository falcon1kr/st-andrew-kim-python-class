{
 "cells": [
  {
   "cell_type": "markdown",
   "metadata": {},
   "source": [
    "# Hello, World!"
   ]
  },
  {
   "cell_type": "markdown",
   "metadata": {},
   "source": [
    "> 창세기에 빛이 있으라가 있다면 프로그래밍 언어에는 Hello, world!가 있다. -나무위키\n",
    "\n",
    "`Hello, world!` 프로그램이란, 많은 프로그래밍 언어에서 보편적으로 쓰이는 첫번째 예제로, 화면에 `Hello, world!`를 출력하는것을 목표로 함"
   ]
  },
  {
   "cell_type": "code",
   "execution_count": 1,
   "metadata": {},
   "outputs": [
    {
     "name": "stdout",
     "output_type": "stream",
     "text": [
      "Hello, world!\n"
     ]
    }
   ],
   "source": [
    "print(\"Hello, world!\")"
   ]
  },
  {
   "cell_type": "markdown",
   "metadata": {},
   "source": [
    "위의 코드를 살펴보면, `print()` 라는 **Function (함수)** 를 통해 괄호 안에있는 문자열을 화면에 출력 하라고 명령하는 것"
   ]
  },
  {
   "cell_type": "markdown",
   "metadata": {},
   "source": [
    "# Variable\n",
    "\n",
    "한국어로는 \"변수\" 라고 부르고, 숫자와 글자 등 여러 값을 담을 수 있는 공간을 뜻함"
   ]
  },
  {
   "cell_type": "code",
   "execution_count": 2,
   "metadata": {},
   "outputs": [],
   "source": [
    "name = \"Andrew Hong\"\n",
    "age = 29"
   ]
  },
  {
   "cell_type": "markdown",
   "metadata": {},
   "source": [
    "위 코드의 의미:\n",
    "- `name` 이라는 이름을 가진 공간에 `Andrew Hong` 이라는 문자열을 넣어라\n",
    "- `age` 라는 이름을 가진 공간에 `29` 라는 정수를 넣어라\n",
    "\n",
    "Variable 에는 여러번 다른 값을 assign 할 수 있음"
   ]
  },
  {
   "cell_type": "code",
   "execution_count": 3,
   "metadata": {},
   "outputs": [
    {
     "name": "stdout",
     "output_type": "stream",
     "text": [
      "Andrew Hong\n",
      "1\n"
     ]
    }
   ],
   "source": [
    "name = \"Andrew Hong\"\n",
    "print(name)\n",
    "\n",
    "name = 1 # can assign different type\n",
    "print(name)"
   ]
  },
  {
   "cell_type": "markdown",
   "metadata": {},
   "source": [
    "# Data Types\n",
    "\n",
    "Python 에는 크게 몇가지의 Data Type (자료형) 이 있음\n",
    "\n",
    "| Data Type | 예 | 설명 |\n",
    "|:----|:---|:----|\n",
    "| String (문자열) | `\"Andrew Hong\"` | 글자들, 즉 text 를 나타냄 |\n",
    "| Integer (정수) | `1234` | 정수를 나타냄 (no decimals) |\n",
    "| Float (부동 소수점 / 실수) | `3.14` | 실수를 나타냄 (with decimals) |\n",
    "| Boolean (불린 / 논리 자료형) | `True` | 참 (`True`) or 거짓 (`False`) 을 나타냄 |\n",
    "| Dictionary (사전) | `{ \"name\": \"Andrew Hong\", \"age\": 29 }` | 사전에서 단어를 정의하듯 key (단어) - value (값) 을 나타냄 |\n",
    "| List (목록) | `[\"Hello\", \"World\"]` | 여러개의 값을 함께 담아놓는 공간 |\n",
    "| Objects (객체) | `Person()` | 데이터와 기능을 하나로 묶어 주변의 사물 또는 생명체를 나타냄 |\n",
    "| Null | `None` | 아무 값이 지정 되어 있지 않음을 나타냄 |\n",
    "\n",
    "여러 언어들과는 다르게 Python 에서는 variable 에 data type 상관 없이 값을 지정할 수 있음"
   ]
  },
  {
   "cell_type": "markdown",
   "metadata": {},
   "source": [
    "## None type"
   ]
  },
  {
   "cell_type": "code",
   "execution_count": 4,
   "metadata": {},
   "outputs": [
    {
     "name": "stdout",
     "output_type": "stream",
     "text": [
      "True\n",
      "False\n"
     ]
    }
   ],
   "source": [
    "# assign None value\n",
    "data = None\n",
    "\n",
    "print(data is None)\n",
    "print(data is not None)"
   ]
  },
  {
   "cell_type": "markdown",
   "metadata": {},
   "source": [
    "## Strings"
   ]
  },
  {
   "cell_type": "code",
   "execution_count": 32,
   "metadata": {},
   "outputs": [
    {
     "name": "stdout",
     "output_type": "stream",
     "text": [
      "Andrew Hong\n"
     ]
    }
   ],
   "source": [
    "# assign string\n",
    "data = 'Andrew Hong'\n",
    "print(data)"
   ]
  },
  {
   "cell_type": "code",
   "execution_count": 33,
   "metadata": {},
   "outputs": [
    {
     "name": "stdout",
     "output_type": "stream",
     "text": [
      "A\n",
      "n\n",
      "d\n",
      "r\n",
      "e\n",
      "w\n",
      " \n",
      "H\n",
      "o\n",
      "n\n",
      "g\n",
      "g\n"
     ]
    }
   ],
   "source": [
    "# Note the index starts from 0 instead of 1\n",
    "# you can access each character of the string like you would with lists\n",
    "print(data[0])\n",
    "print(data[1])\n",
    "print(data[2])\n",
    "print(data[3])\n",
    "print(data[4])\n",
    "print(data[5])\n",
    "print(data[6])\n",
    "print(data[7])\n",
    "print(data[8])\n",
    "print(data[9])\n",
    "print(data[10])\n",
    "print(data[-1])"
   ]
  },
  {
   "cell_type": "code",
   "execution_count": 7,
   "metadata": {
    "scrolled": true
   },
   "outputs": [
    {
     "name": "stdout",
     "output_type": "stream",
     "text": [
      "Hello\n",
      "HelloWorld\n"
     ]
    }
   ],
   "source": [
    "# assign yet another string\n",
    "data = 'Hello'\n",
    "print(data)\n",
    "\n",
    "data = data + 'World' # strings can be concatenated\n",
    "print(data)"
   ]
  },
  {
   "cell_type": "code",
   "execution_count": 8,
   "metadata": {},
   "outputs": [
    {
     "name": "stdout",
     "output_type": "stream",
     "text": [
      "Hello Hello Hello Hello Hello \n"
     ]
    }
   ],
   "source": [
    "data = 'Hello ' * 5 # strings can be \"multiplied\". weird\n",
    "print(data)"
   ]
  },
  {
   "cell_type": "code",
   "execution_count": 9,
   "metadata": {},
   "outputs": [
    {
     "name": "stdout",
     "output_type": "stream",
     "text": [
      "HeLLo\n",
      "HELLO\n",
      "hello\n"
     ]
    }
   ],
   "source": [
    "data = 'HeLLo'\n",
    "print(data)\n",
    "\n",
    "data = data.upper() # can be transformed to upper cases\n",
    "print(data)\n",
    "\n",
    "data = data.lower() # can be transformed to lower cases\n",
    "print(data)"
   ]
  },
  {
   "cell_type": "markdown",
   "metadata": {},
   "source": [
    "### Slicing\n",
    "\n",
    "you can **slice** the string by specifying index in `[start:end:step]` format where `start` is the starting index, `end` is the last index (excluding), `step` defines how fast we increment the index."
   ]
  },
  {
   "cell_type": "code",
   "execution_count": 23,
   "metadata": {
    "scrolled": true
   },
   "outputs": [
    {
     "name": "stdout",
     "output_type": "stream",
     "text": [
      "25\n"
     ]
    }
   ],
   "source": [
    "data = \"0123456789\"\n",
    "print(data[2:8:3])"
   ]
  },
  {
   "cell_type": "markdown",
   "metadata": {},
   "source": [
    "`[2:8:3]` means every `3`rd character from `2`nd to `8 - 1`th character: `2, 5`"
   ]
  },
  {
   "cell_type": "code",
   "execution_count": 29,
   "metadata": {},
   "outputs": [
    {
     "name": "stdout",
     "output_type": "stream",
     "text": [
      "74\n"
     ]
    }
   ],
   "source": [
    "data = \"0123456789\"\n",
    "print(data[7:1:-3])"
   ]
  },
  {
   "cell_type": "markdown",
   "metadata": {},
   "source": [
    "`[7:1:-3]` means every `2`nd character in reverse from `7`th to `1 + 1`th character:  `7, 4`"
   ]
  },
  {
   "cell_type": "code",
   "execution_count": 14,
   "metadata": {},
   "outputs": [
    {
     "name": "stdout",
     "output_type": "stream",
     "text": [
      "ehknqt\n"
     ]
    }
   ],
   "source": [
    "#       01234567890123456789012345\n",
    "data = \"abcdefghijklmnopqrstuvwxyz\"\n",
    "print(data[4:20:3])"
   ]
  },
  {
   "cell_type": "markdown",
   "metadata": {},
   "source": [
    "`[4:20:3]` means every `3`rd character from `4`th to `20 - 1`th character: `4, 7, 10, 13, 16, 19`"
   ]
  },
  {
   "cell_type": "code",
   "execution_count": 15,
   "metadata": {},
   "outputs": [
    {
     "name": "stdout",
     "output_type": "stream",
     "text": [
      "urolif\n"
     ]
    }
   ],
   "source": [
    "#       01234567890123456789012345\n",
    "data = \"abcdefghijklmnopqrstuvwxyz\"\n",
    "print(data[20:4:-3])"
   ]
  },
  {
   "cell_type": "markdown",
   "metadata": {},
   "source": [
    "`[20:4:-3]` means every `3`rd character in reverse from `20`th to `4 + 1`th character: `20, 17, 14, 11, 8, 5`"
   ]
  },
  {
   "cell_type": "code",
   "execution_count": 19,
   "metadata": {},
   "outputs": [
    {
     "name": "stdout",
     "output_type": "stream",
     "text": [
      "024\n"
     ]
    }
   ],
   "source": [
    "data = \"0123456789\"\n",
    "print(data[:6:2])"
   ]
  },
  {
   "cell_type": "markdown",
   "metadata": {},
   "source": [
    "`[:6:2]` means every `2`nd character from beginning to `6 - 1`th: `0, 2, 4`"
   ]
  },
  {
   "cell_type": "code",
   "execution_count": 20,
   "metadata": {},
   "outputs": [
    {
     "name": "stdout",
     "output_type": "stream",
     "text": [
      "579\n"
     ]
    }
   ],
   "source": [
    "data = \"0123456789\"\n",
    "print(data[5::2])"
   ]
  },
  {
   "cell_type": "markdown",
   "metadata": {},
   "source": [
    "`[5::2]` means every `2`nd character from `5`th character to end: `5, 7, 9`"
   ]
  },
  {
   "cell_type": "code",
   "execution_count": 16,
   "metadata": {},
   "outputs": [
    {
     "name": "stdout",
     "output_type": "stream",
     "text": [
      "zyxwvutsrqponmlkjihgfedcba\n"
     ]
    }
   ],
   "source": [
    "#       01234567890123456789012345\n",
    "data = \"abcdefghijklmnopqrstuvwxyz\"\n",
    "print(data[::-1])"
   ]
  },
  {
   "cell_type": "markdown",
   "metadata": {},
   "source": [
    "`[::-1]` means every character (`1`) in reverse from beginning to end"
   ]
  },
  {
   "cell_type": "markdown",
   "metadata": {},
   "source": [
    "## Floats"
   ]
  },
  {
   "cell_type": "code",
   "execution_count": 10,
   "metadata": {},
   "outputs": [
    {
     "name": "stdout",
     "output_type": "stream",
     "text": [
      "3.14\n"
     ]
    }
   ],
   "source": [
    "# assign float\n",
    "data = 3.14\n",
    "print(data)"
   ]
  },
  {
   "cell_type": "code",
   "execution_count": 11,
   "metadata": {
    "scrolled": true
   },
   "outputs": [
    {
     "name": "stdout",
     "output_type": "stream",
     "text": [
      "4.140000000000001\n"
     ]
    }
   ],
   "source": [
    "data = 3.14 + 1\n",
    "print(data)"
   ]
  },
  {
   "cell_type": "code",
   "execution_count": 12,
   "metadata": {
    "scrolled": true
   },
   "outputs": [
    {
     "name": "stdout",
     "output_type": "stream",
     "text": [
      "4.140000000000001\n"
     ]
    }
   ],
   "source": [
    "data = 3.14 + 1.0\n",
    "print(data)"
   ]
  },
  {
   "cell_type": "code",
   "execution_count": 13,
   "metadata": {
    "scrolled": true
   },
   "outputs": [
    {
     "name": "stdout",
     "output_type": "stream",
     "text": [
      "2.14\n"
     ]
    }
   ],
   "source": [
    "data = 3.14 - 1\n",
    "print(data)"
   ]
  },
  {
   "cell_type": "code",
   "execution_count": 14,
   "metadata": {},
   "outputs": [
    {
     "name": "stdout",
     "output_type": "stream",
     "text": [
      "12.56\n"
     ]
    }
   ],
   "source": [
    "radius = 2.0\n",
    "circumference = 2 * 3.14 * radius\n",
    "print(circumference)"
   ]
  },
  {
   "cell_type": "code",
   "execution_count": 15,
   "metadata": {
    "scrolled": true
   },
   "outputs": [
    {
     "name": "stdout",
     "output_type": "stream",
     "text": [
      "2.5\n"
     ]
    }
   ],
   "source": [
    "data = 5.0 / 2 # divide\n",
    "print(data)"
   ]
  },
  {
   "cell_type": "code",
   "execution_count": 16,
   "metadata": {},
   "outputs": [
    {
     "name": "stdout",
     "output_type": "stream",
     "text": [
      "2.0\n"
     ]
    }
   ],
   "source": [
    "data = 5.0 // 2\n",
    "print(data)"
   ]
  },
  {
   "cell_type": "code",
   "execution_count": 17,
   "metadata": {},
   "outputs": [
    {
     "name": "stdout",
     "output_type": "stream",
     "text": [
      "1.0\n"
     ]
    }
   ],
   "source": [
    "data = 5.0 % 2 # get the remainder\n",
    "print(data)"
   ]
  },
  {
   "cell_type": "markdown",
   "metadata": {},
   "source": [
    "## Boolean"
   ]
  },
  {
   "cell_type": "code",
   "execution_count": 18,
   "metadata": {},
   "outputs": [
    {
     "name": "stdout",
     "output_type": "stream",
     "text": [
      "False\n"
     ]
    }
   ],
   "source": [
    "# assign boolean\n",
    "data = False\n",
    "print(data)"
   ]
  },
  {
   "cell_type": "code",
   "execution_count": 19,
   "metadata": {},
   "outputs": [
    {
     "name": "stdout",
     "output_type": "stream",
     "text": [
      "Hello\n",
      "False\n"
     ]
    }
   ],
   "source": [
    "# assign yet another string\n",
    "data = 'Hello'\n",
    "print(data)\n",
    "\n",
    "# assign boolean by evaluating an expression\n",
    "data = data is 'HelloWorld'\n",
    "print(data)"
   ]
  },
  {
   "cell_type": "markdown",
   "metadata": {},
   "source": [
    "## Integer"
   ]
  },
  {
   "cell_type": "code",
   "execution_count": 20,
   "metadata": {},
   "outputs": [
    {
     "name": "stdout",
     "output_type": "stream",
     "text": [
      "1\n",
      "6\n"
     ]
    }
   ],
   "source": [
    "# assign integer\n",
    "data = 1\n",
    "print(data)\n",
    "\n",
    "# assign integer by evaluating an expression based on previous assignment\n",
    "data = data + 5\n",
    "print(data)"
   ]
  },
  {
   "cell_type": "code",
   "execution_count": 37,
   "metadata": {},
   "outputs": [
    {
     "name": "stdout",
     "output_type": "stream",
     "text": [
      "2.5\n"
     ]
    }
   ],
   "source": [
    "data = 5 / 2\n",
    "print(data)"
   ]
  },
  {
   "cell_type": "code",
   "execution_count": 36,
   "metadata": {},
   "outputs": [
    {
     "name": "stdout",
     "output_type": "stream",
     "text": [
      "2\n"
     ]
    }
   ],
   "source": [
    "data = 5 // 2\n",
    "print(data)"
   ]
  },
  {
   "cell_type": "code",
   "execution_count": 23,
   "metadata": {},
   "outputs": [
    {
     "name": "stdout",
     "output_type": "stream",
     "text": [
      "1\n"
     ]
    }
   ],
   "source": [
    "data = 5 % 2\n",
    "print(data)"
   ]
  },
  {
   "cell_type": "code",
   "execution_count": 24,
   "metadata": {},
   "outputs": [
    {
     "name": "stdout",
     "output_type": "stream",
     "text": [
      "25\n"
     ]
    }
   ],
   "source": [
    "data = 5 ** 2\n",
    "print(data)"
   ]
  },
  {
   "cell_type": "markdown",
   "metadata": {},
   "source": [
    "## List"
   ]
  },
  {
   "cell_type": "code",
   "execution_count": 25,
   "metadata": {},
   "outputs": [
    {
     "name": "stdout",
     "output_type": "stream",
     "text": [
      "['메아리', '전례부', '초이스', '성경공부', '레지오 마리애']\n"
     ]
    }
   ],
   "source": [
    "# assign list\n",
    "data = ['메아리', '전례부', '초이스', '성경공부', '레지오 마리애']\n",
    "print(data) # print the whole list"
   ]
  },
  {
   "cell_type": "code",
   "execution_count": 26,
   "metadata": {
    "scrolled": true
   },
   "outputs": [
    {
     "name": "stdout",
     "output_type": "stream",
     "text": [
      "메아리\n",
      "전례부\n",
      "초이스\n",
      "성경공부\n",
      "레지오 마리애\n",
      "레지오 마리애\n"
     ]
    }
   ],
   "source": [
    "# Note the index starts from 0 instead of 1\n",
    "print(data[0]) # print the first item in the list\n",
    "print(data[1]) # print the second item in the list\n",
    "print(data[2]) # print the second item in the list\n",
    "print(data[3]) # print the second item in the list\n",
    "print(data[4]) # print the second item in the list\n",
    "print(data[-1]) # print the last item in the list"
   ]
  },
  {
   "cell_type": "code",
   "execution_count": 27,
   "metadata": {},
   "outputs": [
    {
     "name": "stdout",
     "output_type": "stream",
     "text": [
      "아\n"
     ]
    }
   ],
   "source": [
    "print(data[0][1])"
   ]
  },
  {
   "cell_type": "code",
   "execution_count": 28,
   "metadata": {},
   "outputs": [
    {
     "name": "stdout",
     "output_type": "stream",
     "text": [
      "['메아리', '전례부']\n",
      "['메아리', '전례부', '전례부', '초이스', '성경공부', '레지오 마리애']\n"
     ]
    }
   ],
   "source": [
    "data = ['메아리', '전례부']\n",
    "print(data)\n",
    "\n",
    "data = data + ['전례부', '초이스', '성경공부', '레지오 마리애'] # lists can be \"added\" together\n",
    "print(data) # Notice both duplicate items ('전례부') exists in the result"
   ]
  },
  {
   "cell_type": "code",
   "execution_count": 29,
   "metadata": {},
   "outputs": [
    {
     "name": "stdout",
     "output_type": "stream",
     "text": [
      "['메아리', '전례부', ['초이스', '성경공부']]\n"
     ]
    }
   ],
   "source": [
    "data = ['메아리', '전례부', ['초이스', '성경공부']]\n",
    "print(data) # nested lists"
   ]
  },
  {
   "cell_type": "markdown",
   "metadata": {},
   "source": [
    "위 `String` 중 `Slicing` 섹션에서 쓰인 slicing notation 모두 사용 가능"
   ]
  },
  {
   "cell_type": "markdown",
   "metadata": {},
   "source": [
    "## Dictionary"
   ]
  },
  {
   "cell_type": "code",
   "execution_count": 30,
   "metadata": {},
   "outputs": [
    {
     "name": "stdout",
     "output_type": "stream",
     "text": [
      "{'name': 'Andrew Hong', 'age': 29, 'gender': 'Male'}\n",
      "Andrew Hong\n",
      "29\n",
      "Male\n"
     ]
    }
   ],
   "source": [
    "data = {\n",
    "    'name': 'Andrew Hong',\n",
    "    'age': 29,\n",
    "    'gender': 'Male',\n",
    "}\n",
    "\n",
    "print(data) #print the whole dictionary\n",
    "print(data['name']) # print the value with the key 'name' from the dictionary\n",
    "print(data['age']) # print the value with the key 'age' from the dictionary\n",
    "print(data['gender']) # print the value with the key 'gender' from the dictionary\n"
   ]
  },
  {
   "cell_type": "code",
   "execution_count": 31,
   "metadata": {},
   "outputs": [
    {
     "name": "stdout",
     "output_type": "stream",
     "text": [
      "{'name': 'Andrew Hong', 'age': 29, 'gender': 'Male'}\n",
      "{'name': 'Andrew Hong', 'age': 29, 'gender': 'Male', 'home': 'Burnaby'}\n"
     ]
    }
   ],
   "source": [
    "data = {\n",
    "    'name': 'Andrew Hong',\n",
    "    'age': 29,\n",
    "    'gender': 'Male',\n",
    "}\n",
    "print(data)\n",
    "\n",
    "data['home'] = 'Burnaby' # you can add new key-value pairs like this\n",
    "print(data)"
   ]
  },
  {
   "cell_type": "code",
   "execution_count": 32,
   "metadata": {},
   "outputs": [
    {
     "name": "stdout",
     "output_type": "stream",
     "text": [
      "{'name': 'Andrew Hong', 'age': 29}\n"
     ]
    }
   ],
   "source": [
    "data = {\n",
    "    'name': 'Andrew Hong',\n",
    "    'age': 29,\n",
    "    'gender': 'Male',\n",
    "}\n",
    "\n",
    "del data['gender']\n",
    "print(data)"
   ]
  },
  {
   "cell_type": "code",
   "execution_count": 33,
   "metadata": {},
   "outputs": [
    {
     "name": "stdout",
     "output_type": "stream",
     "text": [
      "{'name': 'Andrew Hong', 'age': 29, 'gender': 'Female'}\n"
     ]
    }
   ],
   "source": [
    "data = {\n",
    "    'name': 'Andrew Hong',\n",
    "    'age': 29,\n",
    "    'gender': 'Male',\n",
    "}\n",
    "\n",
    "data['gender'] = 'Female' # you can update the data\n",
    "\n",
    "print(data)"
   ]
  },
  {
   "cell_type": "code",
   "execution_count": 34,
   "metadata": {},
   "outputs": [
    {
     "name": "stdout",
     "output_type": "stream",
     "text": [
      "{'name': 'Andrew Hong', 'birthday': {'year': 1989, 'month': 2, 'day': 11}}\n"
     ]
    }
   ],
   "source": [
    "# nested dictionary\n",
    "data = {\n",
    "    'name': 'Andrew Hong',\n",
    "    'birthday': {\n",
    "        'year': 1989,\n",
    "        'month': 2,\n",
    "        'day': 11,\n",
    "    }\n",
    "}\n",
    "\n",
    "print(data)"
   ]
  },
  {
   "cell_type": "code",
   "execution_count": 35,
   "metadata": {},
   "outputs": [
    {
     "data": {
      "text/plain": [
       "1989"
      ]
     },
     "execution_count": 35,
     "metadata": {},
     "output_type": "execute_result"
    }
   ],
   "source": [
    "data['birthday']['year']"
   ]
  },
  {
   "cell_type": "markdown",
   "metadata": {},
   "source": [
    "## Object"
   ]
  },
  {
   "cell_type": "code",
   "execution_count": 36,
   "metadata": {},
   "outputs": [
    {
     "name": "stdout",
     "output_type": "stream",
     "text": [
      "2018-10-03 21:43:32.603940\n"
     ]
    }
   ],
   "source": [
    "import datetime\n",
    "\n",
    "# assign current time\n",
    "data = datetime.datetime.now()\n",
    "print(data)"
   ]
  },
  {
   "cell_type": "markdown",
   "metadata": {},
   "source": [
    "# Input\n",
    "\n",
    "종종 사용자의 입력을 받아야 할때가 있음. 예) 사용자의 이름, 나이 등"
   ]
  },
  {
   "cell_type": "code",
   "execution_count": 37,
   "metadata": {},
   "outputs": [
    {
     "name": "stdout",
     "output_type": "stream",
     "text": [
      "What is your name? Andrew\n",
      "Got it. Hello Andrew\n",
      "<class 'str'>\n"
     ]
    }
   ],
   "source": [
    "name = input('What is your name? ') # Take in user input and assign it to variable \"name\"\n",
    "print('Got it. Hello ' + name)\n",
    "\n",
    "print(type(name)) # let's see what type of value we have in \"name\""
   ]
  },
  {
   "cell_type": "code",
   "execution_count": 38,
   "metadata": {},
   "outputs": [
    {
     "name": "stdout",
     "output_type": "stream",
     "text": [
      "How old are you? 29\n",
      "Oh, you are 29 years-old? Good to know.\n",
      "<class 'str'>\n"
     ]
    }
   ],
   "source": [
    "age = input('How old are you? ') # Take in user input and assign it to variable \"age\"\n",
    "print('Oh, you are ' + age + ' years-old? Good to know.')\n",
    "\n",
    "print(type(age)) # let's see what type of value we have in \"age\""
   ]
  },
  {
   "cell_type": "code",
   "execution_count": 39,
   "metadata": {},
   "outputs": [
    {
     "name": "stdout",
     "output_type": "stream",
     "text": [
      "<class 'int'>\n",
      "29\n"
     ]
    }
   ],
   "source": [
    "age = int(age) # try to change value of \"age\" to an integer\n",
    "print(type(age)) # now age is integer!\n",
    "print(age)"
   ]
  },
  {
   "cell_type": "markdown",
   "metadata": {},
   "source": [
    "`age` 에 숫자를 입력해도, 컴퓨터가 보기엔 숫자를 나타내는 문자열을 입력한것"
   ]
  },
  {
   "cell_type": "markdown",
   "metadata": {},
   "source": [
    "# Exercises"
   ]
  },
  {
   "cell_type": "markdown",
   "metadata": {},
   "source": [
    "## Payment Calculator\n",
    "\n",
    "You've just had good time at a Handasom event. Unfortunately, as always, the time comes for you to pay for the food you just ate. Let's see if we can write a program to calculate what each person has to pay. We want our program to look like below:\n",
    "\n",
    "```\n",
    "What was the total cost? ($) 150\n",
    "What is the tax rate? (%) 12\n",
    "How much tip do you want to include? (%) 15\n",
    "\n",
    "How many people attended the event? 5\n",
    "\n",
    "Your total comes out to $38.64 per person.\n",
    "```"
   ]
  },
  {
   "cell_type": "code",
   "execution_count": null,
   "metadata": {},
   "outputs": [],
   "source": []
  }
 ],
 "metadata": {
  "kernelspec": {
   "display_name": "Python 3",
   "language": "python",
   "name": "python3"
  },
  "language_info": {
   "codemirror_mode": {
    "name": "ipython",
    "version": 3
   },
   "file_extension": ".py",
   "mimetype": "text/x-python",
   "name": "python",
   "nbconvert_exporter": "python",
   "pygments_lexer": "ipython3",
   "version": "3.7.0"
  }
 },
 "nbformat": 4,
 "nbformat_minor": 2
}
