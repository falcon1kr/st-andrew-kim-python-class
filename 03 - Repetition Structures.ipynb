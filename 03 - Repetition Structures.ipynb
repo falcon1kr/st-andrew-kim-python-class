{
 "cells": [
  {
   "cell_type": "markdown",
   "metadata": {},
   "source": [
    "# `while` loop\n",
    "\n",
    "컨디션이 `False` 가 될때까지 **무한** 반복"
   ]
  },
  {
   "cell_type": "code",
   "execution_count": 128,
   "metadata": {},
   "outputs": [
    {
     "name": "stdout",
     "output_type": "stream",
     "text": [
      "Are you having fun?? [y/n] n\n",
      "Are you sure? Let me ask again.\n",
      "\n",
      "Are you having fun?? [y/n] a\n",
      "I'm not sure what you mean.\n",
      "\n",
      "Are you having fun?? [y/n] y\n",
      "I'm very happy to hear that!\n",
      "\n"
     ]
    }
   ],
   "source": [
    "repeat = True\n",
    "\n",
    "while (repeat):\n",
    "    answer = input('Are you having fun?? [y/n] ').lower()\n",
    "\n",
    "    if answer == 'y':\n",
    "        print('I\\'m very happy to hear that!')\n",
    "        repeat = False\n",
    "\n",
    "    elif answer == 'n':\n",
    "        print('Are you sure? Let me ask again.')\n",
    "\n",
    "    else:\n",
    "        print('I\\'m not sure what you mean.')\n",
    "\n",
    "    print()"
   ]
  },
  {
   "cell_type": "markdown",
   "metadata": {},
   "source": [
    "# `for` loop\n",
    "\n",
    "유한적 반복."
   ]
  },
  {
   "cell_type": "code",
   "execution_count": 4,
   "metadata": {},
   "outputs": [
    {
     "name": "stdout",
     "output_type": "stream",
     "text": [
      "Are you having fun?? [y/n] b\n",
      "Are you sure? Let me ask again.\n",
      "\n",
      "Are you having fun?? [y/n] n\n",
      "Are you sure? Let me ask again.\n",
      "\n",
      "Are you having fun?? [y/n] n\n",
      "Ok. Fine.\n"
     ]
    }
   ],
   "source": [
    "# loop for x times\n",
    "\n",
    "max_ask = 3\n",
    "\n",
    "for i in range(max_ask):\n",
    "    \n",
    "    answer = input('Are you having fun?? [y/n] ').lower()\n",
    "    \n",
    "    if answer == 'y':\n",
    "        print('I\\'m very happy to hear that!')\n",
    "        break # breaks the loop early\n",
    "\n",
    "    if i == max_ask - 1:\n",
    "        print('Ok. Fine.')\n",
    "\n",
    "    else:\n",
    "        print('Are you sure? Let me ask again.')\n",
    "        print()"
   ]
  },
  {
   "cell_type": "code",
   "execution_count": 3,
   "metadata": {},
   "outputs": [
    {
     "name": "stdout",
     "output_type": "stream",
     "text": [
      "우리 메아리 봉사 함께 해요!\n",
      "우리 전례부 봉사 함께 해요!\n",
      "우리 초이스 봉사 함께 해요!\n",
      "우리 성경공부 봉사 함께 해요!\n",
      "우리 레지오 마리애 봉사 함께 해요!\n"
     ]
    }
   ],
   "source": [
    "# loop over list\n",
    "\n",
    "for name in ['메아리', '전례부', '초이스', '성경공부', '레지오 마리애']:\n",
    "    print('우리 ' + name + ' 봉사 함께 해요!')"
   ]
  },
  {
   "cell_type": "code",
   "execution_count": 2,
   "metadata": {},
   "outputs": [
    {
     "name": "stdout",
     "output_type": "stream",
     "text": [
      "하지만 메아리가 출동하면 어떨까?\n",
      "메!\n",
      "아!\n",
      "리!\n"
     ]
    }
   ],
   "source": [
    "# loop over string\n",
    "\n",
    "name = '메아리'\n",
    "\n",
    "print('하지만 ' + name + '가 출동하면 어떨까?')\n",
    "\n",
    "for char in name:\n",
    "    print(char + '!')"
   ]
  },
  {
   "cell_type": "code",
   "execution_count": 139,
   "metadata": {},
   "outputs": [
    {
     "name": "stdout",
     "output_type": "stream",
     "text": [
      "name : Andrew Hong\n",
      "age : 29\n",
      "gender : Male\n"
     ]
    }
   ],
   "source": [
    "data = {\n",
    "    'name': 'Andrew Hong',\n",
    "    'age': 29,\n",
    "    'gender': 'Male',\n",
    "}\n",
    "\n",
    "for key in data:\n",
    "    print('{} : {}'.format(key, data[key]))"
   ]
  },
  {
   "cell_type": "code",
   "execution_count": 137,
   "metadata": {},
   "outputs": [
    {
     "name": "stdout",
     "output_type": "stream",
     "text": [
      "name : Andrew Hong\n",
      "age : 29\n",
      "gender : Male\n"
     ]
    }
   ],
   "source": [
    "data = {\n",
    "    'name': 'Andrew Hong',\n",
    "    'age': 29,\n",
    "    'gender': 'Male',\n",
    "}\n",
    "\n",
    "for key, value in data.items():\n",
    "    print('{} : {}'.format(key, value))"
   ]
  },
  {
   "cell_type": "code",
   "execution_count": 115,
   "metadata": {},
   "outputs": [
    {
     "name": "stdout",
     "output_type": "stream",
     "text": [
      "dict_items([('name', 'Andrew Hong'), ('age', 29), ('gender', 'Male')])\n"
     ]
    }
   ],
   "source": [
    "print(data.items())"
   ]
  },
  {
   "cell_type": "code",
   "execution_count": 136,
   "metadata": {},
   "outputs": [
    {
     "name": "stdout",
     "output_type": "stream",
     "text": [
      "Andrew Hong\n",
      "29\n",
      "Male\n"
     ]
    }
   ],
   "source": [
    "data = {\n",
    "    'name': 'Andrew Hong',\n",
    "    'age': 29,\n",
    "    'gender': 'Male',\n",
    "}\n",
    "\n",
    "for value in data.values():\n",
    "    print(value)"
   ]
  },
  {
   "cell_type": "markdown",
   "metadata": {},
   "source": [
    "# Exercises"
   ]
  },
  {
   "cell_type": "markdown",
   "metadata": {},
   "source": [
    "Payment calculator we improved in the last lesson has been great. However, we've recently noticed that Handasom has been going to multiple rounds of events. So we want to improve the calculator further to allow us to sum up the total cost together and divide it up at the end.\n",
    "\n",
    "With the changes, the output should look like the following:\n",
    "\n",
    "```\n",
    "What was the total cost? ($) 300\n",
    "What is the tax rate? (%) 12\n",
    "How much tip do you want to include? (%) 15\n",
    "Do you want to add more payments? (y/n) y\n",
    "\n",
    "What was the total cost? ($) 200\n",
    "What is the tax rate? (%) 7\n",
    "How much tip do you want to include? (%) 10\n",
    "Do you want to add more payments? (y/n) n\n",
    "\n",
    "How many people attended the event? 10\n",
    "Applying 15% discount.\n",
    "\n",
    "Your total comes out to $52.853 per person.\n",
    "```"
   ]
  },
  {
   "cell_type": "code",
   "execution_count": null,
   "metadata": {},
   "outputs": [],
   "source": []
  }
 ],
 "metadata": {
  "kernelspec": {
   "display_name": "Python 3",
   "language": "python",
   "name": "python3"
  },
  "language_info": {
   "codemirror_mode": {
    "name": "ipython",
    "version": 3
   },
   "file_extension": ".py",
   "mimetype": "text/x-python",
   "name": "python",
   "nbconvert_exporter": "python",
   "pygments_lexer": "ipython3",
   "version": "3.7.0"
  }
 },
 "nbformat": 4,
 "nbformat_minor": 2
}
