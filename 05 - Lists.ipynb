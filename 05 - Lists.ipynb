{
 "cells": [
  {
   "cell_type": "markdown",
   "metadata": {},
   "source": [
    "# Slicing\n",
    "\n",
    "you can **slice** the string by specifying index in `[start:end:step]` format where `start` is the starting index, `end` is the last index (excluding), `step` defines how fast we increment the index."
   ]
  },
  {
   "cell_type": "code",
   "execution_count": 23,
   "metadata": {
    "scrolled": true
   },
   "outputs": [
    {
     "name": "stdout",
     "output_type": "stream",
     "text": [
      "25\n"
     ]
    }
   ],
   "source": [
    "data = \"0123456789\"\n",
    "print(data[2:8:3])"
   ]
  },
  {
   "cell_type": "markdown",
   "metadata": {},
   "source": [
    "`[2:8:3]` means every `3`rd character from `2`nd to `8 - 1`th character: `2, 5`"
   ]
  },
  {
   "cell_type": "code",
   "execution_count": 29,
   "metadata": {},
   "outputs": [
    {
     "name": "stdout",
     "output_type": "stream",
     "text": [
      "74\n"
     ]
    }
   ],
   "source": [
    "data = \"0123456789\"\n",
    "print(data[7:1:-3])"
   ]
  },
  {
   "cell_type": "markdown",
   "metadata": {},
   "source": [
    "`[7:1:-3]` means every `2`nd character in reverse from `7`th to `1 + 1`th character:  `7, 4`"
   ]
  },
  {
   "cell_type": "code",
   "execution_count": 14,
   "metadata": {},
   "outputs": [
    {
     "name": "stdout",
     "output_type": "stream",
     "text": [
      "ehknqt\n"
     ]
    }
   ],
   "source": [
    "#       01234567890123456789012345\n",
    "data = \"abcdefghijklmnopqrstuvwxyz\"\n",
    "print(data[4:20:3])"
   ]
  },
  {
   "cell_type": "markdown",
   "metadata": {},
   "source": [
    "`[4:20:3]` means every `3`rd character from `4`th to `20 - 1`th character: `4, 7, 10, 13, 16, 19`"
   ]
  },
  {
   "cell_type": "code",
   "execution_count": 15,
   "metadata": {},
   "outputs": [
    {
     "name": "stdout",
     "output_type": "stream",
     "text": [
      "urolif\n"
     ]
    }
   ],
   "source": [
    "#       01234567890123456789012345\n",
    "data = \"abcdefghijklmnopqrstuvwxyz\"\n",
    "print(data[20:4:-3])"
   ]
  },
  {
   "cell_type": "markdown",
   "metadata": {},
   "source": [
    "`[20:4:-3]` means every `3`rd character in reverse from `20`th to `4 + 1`th character: `20, 17, 14, 11, 8, 5`"
   ]
  },
  {
   "cell_type": "code",
   "execution_count": 19,
   "metadata": {},
   "outputs": [
    {
     "name": "stdout",
     "output_type": "stream",
     "text": [
      "024\n"
     ]
    }
   ],
   "source": [
    "data = \"0123456789\"\n",
    "print(data[:6:2])"
   ]
  },
  {
   "cell_type": "markdown",
   "metadata": {},
   "source": [
    "`[:6:2]` means every `2`nd character from beginning to `6 - 1`th: `0, 2, 4`"
   ]
  },
  {
   "cell_type": "code",
   "execution_count": 20,
   "metadata": {},
   "outputs": [
    {
     "name": "stdout",
     "output_type": "stream",
     "text": [
      "579\n"
     ]
    }
   ],
   "source": [
    "data = \"0123456789\"\n",
    "print(data[5::2])"
   ]
  },
  {
   "cell_type": "markdown",
   "metadata": {},
   "source": [
    "`[5::2]` means every `2`nd character from `5`th character to end: `5, 7, 9`"
   ]
  },
  {
   "cell_type": "code",
   "execution_count": 16,
   "metadata": {},
   "outputs": [
    {
     "name": "stdout",
     "output_type": "stream",
     "text": [
      "zyxwvutsrqponmlkjihgfedcba\n"
     ]
    }
   ],
   "source": [
    "#       01234567890123456789012345\n",
    "data = \"abcdefghijklmnopqrstuvwxyz\"\n",
    "print(data[::-1])"
   ]
  },
  {
   "cell_type": "markdown",
   "metadata": {},
   "source": [
    "`[::-1]` means every character (`1`) in reverse from beginning to end"
   ]
  }
 ],
 "metadata": {
  "kernelspec": {
   "display_name": "Python 3",
   "language": "python",
   "name": "python3"
  },
  "language_info": {
   "codemirror_mode": {
    "name": "ipython",
    "version": 3
   },
   "file_extension": ".py",
   "mimetype": "text/x-python",
   "name": "python",
   "nbconvert_exporter": "python",
   "pygments_lexer": "ipython3",
   "version": "3.7.0"
  }
 },
 "nbformat": 4,
 "nbformat_minor": 2
}
